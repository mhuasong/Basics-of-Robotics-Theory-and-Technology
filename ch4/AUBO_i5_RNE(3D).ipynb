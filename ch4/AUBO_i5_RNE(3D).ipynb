{
 "cells": [
  {
   "cell_type": "code",
   "execution_count": 1,
   "metadata": {},
   "outputs": [],
   "source": [
    "import numpy as np\n",
    "import math\n",
    "import sympy as sp\n",
    "from sympy import Matrix  "
   ]
  },
  {
   "cell_type": "markdown",
   "metadata": {},
   "source": [
    "对参数进行定义和处理"
   ]
  },
  {
   "cell_type": "code",
   "execution_count": 2,
   "metadata": {},
   "outputs": [],
   "source": [
    "#AUBO_i5 DH参数\n",
    "alpha = [0,math.pi/2,math.pi,math.pi,math.pi/2,math.pi/2];\n",
    "a = [0,0,0.408,0.376,0,0];\n",
    "d = [0.122,0.1405,0,-0.019,0.1025,0.094];\n",
    "offset = [0,math.pi/2,0,math.pi/2,math.pi,0];"
   ]
  },
  {
   "cell_type": "code",
   "execution_count": 3,
   "metadata": {},
   "outputs": [],
   "source": [
    "m = [1.576,4.041,2.271,0.500,0.500,0.158]\n",
    "\n",
    "p_c1 = Matrix([0, 0.0053, -0.0088])\n",
    "p_c2 = Matrix([0.2039, 0, 0.0127])\n",
    "p_c3 = Matrix([0.1889, 0.0, 0.0981])\n",
    "p_c4 = Matrix([0, 0.0062, -0.0039])\n",
    "p_c5 = Matrix([0, -0.0062, -0.0039])\n",
    "p_c6 = Matrix([0, 0.00017,-0.0213])\n",
    "\n",
    "In_1 = [[40.640,0,0],[0,29.286,0],[0,0,30.869]]\n",
    "In_2 = [[96.539,0,0],[0,1449.938,0],[0,0,1426.071]]\n",
    "In_3 = [[21.432,0,0],[0,443.926,0],[0,0,441.273]]\n",
    "In_4 = [[7.119,0,0],[0,4.058,0],[0,0,6.855]]\n",
    "In_5 = [[7.119,0,0],[0,4.058,0],[0,0,6.855]]\n",
    "In_6 = [[0.7313,0,0],[0,0.7195,0],[0,0,1.0877]]\n",
    "\n",
    "In_1 = Matrix([[x * 10 ** -4 for x in row] for row in In_1])\n",
    "In_2 = Matrix([[x * 10 ** -4 for x in row] for row in In_2])\n",
    "In_3 = Matrix([[x * 10 ** -4 for x in row] for row in In_3])\n",
    "In_4 = Matrix([[x * 10 ** -4 for x in row] for row in In_4])\n",
    "In_5 = Matrix([[x * 10 ** -4 for x in row] for row in In_5])\n",
    "In_6 = Matrix([[x * 10 ** -4 for x in row] for row in In_6])\n",
    "\n",
    "#设置重力加速度\n",
    "g = 9.81"
   ]
  },
  {
   "cell_type": "code",
   "execution_count": 4,
   "metadata": {},
   "outputs": [],
   "source": [
    "#读取DH参数\n",
    "alpha_0=alpha[0];alpha_1=alpha[1];alpha_2=alpha[2];alpha_3=alpha[3];alpha_4=alpha[4];alpha_5=alpha[5]\n",
    "a_0=a[0];a_1=a[1];a_2=a[2];a_3=a[3];a_4=a[4];a_5=a[5]\n",
    "d_1=d[0];d_2=d[1];d_3=d[2];d_4=d[3];d_5=d[4];d_6=d[5]\n",
    "p_cx1=p_c1[0];p_cy1=p_c1[1];p_cz1=p_c1[2]\n",
    "p_cx2=p_c2[0];p_cy2=p_c2[1];p_cz2=p_c2[2]\n",
    "p_cx3=p_c3[0];p_cy3=p_c3[1];p_cz3=p_c3[2]\n",
    "p_cx4=p_c4[0];p_cy4=p_c4[1];p_cz4=p_c4[2]\n",
    "p_cx5=p_c5[0];p_cy5=p_c5[1];p_cz5=p_c5[2]\n",
    "p_cx6=p_c6[0];p_cy6=p_c6[1];p_cz6=p_c6[2]\n",
    "m_1=m[0];m_2=m[1];m_3=m[2];m_4=m[3];m_5=m[4];m_6=m[5]\n",
    "\n",
    "q_1,q_2,q_3,q_4,q_5,q_6 = sp.symbols('q_1 q_2 q_3 q_4 q_5 q_6')\n",
    "dq_1,dq_2,dq_3,dq_4,dq_5,dq_6 = sp.symbols('dq_1 dq_2 dq_3 dq_4 dq_5 dq_6')"
   ]
  },
  {
   "cell_type": "code",
   "execution_count": 5,
   "metadata": {},
   "outputs": [],
   "source": [
    "#旋转矩阵\n",
    "\n",
    "R_1=sp.Matrix([[sp.cos(q_1),-sp.sin(q_1),0],\n",
    "     [sp.sin(q_1)*sp.cos(alpha_0),sp.cos(q_1)*sp.cos(alpha_0),-sp.sin(alpha_0)],\n",
    "     [sp.sin(q_1)*sp.sin(alpha_0),sp.cos(q_1)*sp.sin(alpha_0),sp.cos(alpha_0)]])\n",
    "R_2=sp.Matrix([[sp.cos(q_2),-sp.sin(q_2),0],\n",
    "     [sp.sin(q_2)*sp.cos(alpha_1),sp.cos(q_1)*sp.cos(alpha_1),-sp.sin(alpha_1)],\n",
    "     [sp.sin(q_2)*sp.sin(alpha_1),sp.cos(q_2)*sp.sin(alpha_1),sp.cos(alpha_1)]])\n",
    "R_3=sp.Matrix([[sp.cos(q_3),-sp.sin(q_3),0],\n",
    "     [sp.sin(q_3)*sp.cos(alpha_2),sp.cos(q_3)*sp.cos(alpha_2),-sp.sin(alpha_2)],\n",
    "     [sp.sin(q_3)*sp.sin(alpha_2),sp.cos(q_3)*sp.sin(alpha_2),sp.cos(alpha_2)]])\n",
    "R_4=sp.Matrix([[sp.cos(q_4),-sp.sin(q_4),0],\n",
    "     [sp.sin(q_4)*sp.cos(alpha_3),sp.cos(q_4)*sp.cos(alpha_3),-sp.sin(alpha_3)],\n",
    "     [sp.sin(q_4)*sp.sin(alpha_3),sp.cos(q_4)*sp.sin(alpha_3),sp.cos(alpha_3)]])\n",
    "R_5=sp.Matrix([[sp.cos(q_5),-sp.sin(q_5),0],\n",
    "     [sp.sin(q_5)*sp.cos(alpha_4),sp.cos(q_5)*sp.cos(alpha_4),-sp.sin(alpha_4)],\n",
    "     [sp.sin(q_5)*sp.sin(alpha_4),sp.cos(q_5)*sp.sin(alpha_4),sp.cos(alpha_4)]])\n",
    "R_6=sp.Matrix([[sp.cos(q_6),-sp.sin(q_6),0],\n",
    "     [sp.sin(q_6)*sp.cos(alpha_5),sp.cos(q_6)*sp.cos(alpha_5),-sp.sin(alpha_5)],\n",
    "     [sp.sin(q_6)*sp.sin(alpha_5),sp.cos(q_6)*sp.sin(alpha_5),sp.cos(alpha_5)]])\n",
    "#位置向量\n",
    "p_1=sp.Matrix([[a_0],[-sp.sin(alpha_0)*d_1],[sp.cos(alpha_0)*d_1]])\n",
    "p_2=sp.Matrix([[a_1],[-sp.sin(alpha_1)*d_2],[sp.cos(alpha_1)*d_2]])\n",
    "p_3=sp.Matrix([[a_2],[-sp.sin(alpha_2)*d_3],[sp.cos(alpha_2)*d_3]])\n",
    "p_4=sp.Matrix([[a_3],[-sp.sin(alpha_3)*d_4],[sp.cos(alpha_3)*d_4]])\n",
    "p_5=sp.Matrix([[a_4],[-sp.sin(alpha_4)*d_5],[sp.cos(alpha_4)*d_5]])\n",
    "p_6=sp.Matrix([[a_5],[-sp.sin(alpha_5)*d_6],[sp.cos(alpha_5)*d_6]])\n",
    "#齐次变换矩阵\n",
    "a = sp.Matrix([[0,0,0,1]])\n",
    "\n",
    "T_1 = Matrix.hstack(R_1, p_1)\n",
    "T_1 = Matrix.vstack(T_1,a)\n",
    "T_2 = Matrix.hstack(R_2, p_2)\n",
    "T_2 = Matrix.vstack(T_2,a)\n",
    "T_3 = Matrix.hstack(R_3, p_3)\n",
    "T_3 = Matrix.vstack(T_3,a)\n",
    "T_4 = Matrix.hstack(R_4, p_4)\n",
    "T_4 = Matrix.vstack(T_4,a)\n",
    "T_5 = Matrix.hstack(R_5, p_5)\n",
    "T_5 = Matrix.vstack(T_5,a)\n",
    "T_6 = Matrix.hstack(R_6, p_6)\n",
    "T_6 = Matrix.vstack(T_6,a)\n",
    "T = T_1@T_2@T_3@T_4@T_5@T_6\n",
    "\n",
    "#质心位置向量\n",
    "p_c1=p_1+R_1@np.vstack((p_cx1,p_cy1,p_cz1))\n",
    "p_c2=p_1+R_1@(p_2+R_2@np.vstack((p_cx2,p_cy2,p_cz2)))\n",
    "p_c3=p_1+R_1@(p_2+R_2@(p_3+R_3@np.vstack((p_cx3,p_cy3,p_cz3))))\n",
    "p_c4=p_1+R_1@(p_2+R_2@(p_3+R_3@(p_4+R_4@np.vstack((p_cx4,p_cy4,p_cz4)))))\n",
    "p_c5=p_1+R_1@(p_2+R_2@(p_3+R_3@(p_4+R_4@(p_5+R_5@np.vstack((p_cx5,p_cy5,p_cz5))))))\n",
    "p_c6=p_1+R_1@(p_2+R_2@(p_3+R_3@(p_4+R_4@(p_5+R_5@(p_6+R_6@np.vstack((p_cx6,p_cy6,p_cz6)))))))\n"
   ]
  },
  {
   "cell_type": "markdown",
   "metadata": {},
   "source": [
    "计算雅可比矩阵"
   ]
  },
  {
   "cell_type": "code",
   "execution_count": 6,
   "metadata": {},
   "outputs": [
    {
     "name": "stdout",
     "output_type": "stream",
     "text": [
      "(3, 3)\n"
     ]
    }
   ],
   "source": [
    "# print(p_c1.shape)\n",
    "# #系统状态\n",
    "q=Matrix([[q_1],[q_2],[q_3],[q_4],[q_5],[q_6]])\n",
    "# #计算雅可比\n",
    "J_v1 = sp.Matrix([p_c1]).jacobian(q)\n",
    "J_v2 = sp.Matrix([p_c2]).jacobian(q)\n",
    "J_v3 = sp.Matrix([p_c3]).jacobian(q)\n",
    "J_v4 = sp.Matrix([p_c4]).jacobian(q)\n",
    "J_v5 = sp.Matrix([p_c5]).jacobian(q)\n",
    "J_v6 = sp.Matrix([p_c6]).jacobian(q)\n",
    "# #相对基座的旋转矩阵\n",
    "R_20=R_1@R_2\n",
    "R_30=R_20@R_3\n",
    "R_40=R_30@R_4\n",
    "R_50=R_40@R_5\n",
    "R_60=R_50@R_6\n",
    "print(R_20.shape)\n",
    "\n",
    "\n",
    "J_o1 = Matrix.hstack(R_1[:,2],sp.zeros(3,5))\n",
    "J_o2 = Matrix.hstack(R_1[:,2],R_20[:,2],sp.zeros(3,4))\n",
    "J_o3 = Matrix.hstack(R_1[:,2],R_20[:,2],R_30[:,2],sp.zeros(3,3))\n",
    "J_o4 = Matrix.hstack(R_1[:,2],R_20[:,2],R_30[:,2],R_40[:,2],sp.zeros(3,2))\n",
    "J_o5 = Matrix.hstack(R_1[:,2],R_20[:,2],R_30[:,2],R_40[:,2],R_50[:,2],sp.zeros(3,1))\n",
    "J_o6 = Matrix.hstack(R_1[:,2],R_20[:,2],R_30[:,2],R_40[:,2],R_50[:,2],R_60[:,2])\n",
    "\n",
    "\n",
    "# #末端雅可比矩阵\n",
    "Jacobi = Matrix.hstack(J_v6,J_o6)\n",
    "# #质量惯性矩阵计算\n",
    "\n",
    "J_v1_inv = J_v1.transpose()\n",
    "J_v2_inv = J_v2.transpose()\n",
    "J_v3_inv = J_v3.transpose()\n",
    "J_v4_inv = J_v4.transpose()\n",
    "J_v5_inv = J_v5.transpose()\n",
    "J_v6_inv = J_v6.transpose()\n",
    "\n",
    "J_o1_inv = J_o1.transpose()\n",
    "J_o2_inv = J_o2.transpose()\n",
    "J_o3_inv = J_o3.transpose()\n",
    "J_o4_inv = J_o4.transpose()\n",
    "J_o5_inv = J_o5.transpose()\n",
    "J_o6_inv = J_o6.transpose()\n",
    "\n",
    "R_20_inv = R_20.transpose()\n",
    "R_30_inv = R_30.transpose()\n",
    "R_40_inv = R_40.transpose()\n",
    "R_50_inv = R_50.transpose()\n",
    "R_60_inv = R_60.transpose()\n",
    "\n",
    "R_1_inv = R_1.transpose()\n"
   ]
  },
  {
   "cell_type": "markdown",
   "metadata": {},
   "source": [
    "计算质量惯性矩阵、科氏力矩阵、重力矩阵"
   ]
  },
  {
   "cell_type": "code",
   "execution_count": 7,
   "metadata": {},
   "outputs": [],
   "source": [
    "M = m_1*J_v1_inv@sp.eye(3)@J_v1+J_o1_inv@R_1@In_1@R_1_inv@J_o1+m_2*J_v2_inv@sp.eye(3)@J_v2+\\\n",
    "     J_o2_inv@R_20@In_2@R_20_inv@J_o2+m_3*J_v3_inv@sp.eye(3)@J_v3+J_o3_inv@R_30@In_3@R_30_inv@J_o3\\\n",
    "          +m_4*J_v4_inv@sp.eye(3)@J_v4+J_o4_inv@R_40@In_4@R_40_inv@J_o4\\\n",
    "               +m_5*J_v5_inv@sp.eye(3)@J_v5+J_o5_inv@R_50@In_5@R_50_inv@J_o5\\\n",
    "                    +m_6*J_v6_inv@sp.eye(3)@J_v6+J_o6_inv@R_60@In_6@R_60_inv@J_o6"
   ]
  },
  {
   "cell_type": "code",
   "execution_count": 8,
   "metadata": {},
   "outputs": [],
   "source": [
    "#向心力和科氏力\n",
    "C = Matrix(6, 6, lambda i, j: 0)  \n",
    "for k in range(6):\n",
    "     for s in range(6):\n",
    "          C[k,s]= 0.5*(dq_1*(sp.diff(M[k,s],q_1)+sp.diff(M[k,0],q[s,0])-sp.diff(M[0,s],q[k,0]))+\\\n",
    "               dq_2*(sp.diff(M[k,s],q_2)+sp.diff(M[k,1],q[s,0])-sp.diff(M[1,s],q[k,0]))+\\\n",
    "                    dq_3*(sp.diff(M[k,s],q_3)+sp.diff(M[k,2],q[s,0])-sp.diff(M[2,s],q[k,0]))+\\\n",
    "                         dq_4*(sp.diff(M[k,s],q_4)+sp.diff(M[k,3],q[s,0])-sp.diff(M[3,s],q[k,0]))+\\\n",
    "                              dq_5*(sp.diff(M[k,s],q_5)+sp.diff(M[k,4],q[s,0])-sp.diff(M[4,s],q[k,0]))+\\\n",
    "                                   dq_6*(sp.diff(M[k,s],q_6)+sp.diff(M[k,5],q[s,0])-sp.diff(M[5,s],q[k,0])))"
   ]
  },
  {
   "cell_type": "code",
   "execution_count": 9,
   "metadata": {},
   "outputs": [],
   "source": [
    "## POTENTIAL ENERGIES and GRAVITY VECTOR\n",
    "P1=m_1*Matrix([0,0,g]).T@p_c1\n",
    "P2=m_2*Matrix([0,0,g]).T@p_c2\n",
    "P3=m_3*Matrix([0,0,g]).T@p_c3\n",
    "P4=m_4*Matrix([0,0,g]).T@p_c4\n",
    "P5=m_5*Matrix([0,0,g]).T@p_c5\n",
    "P6=m_6*Matrix([0,0,g]).T@p_c6\n",
    "P=P1+P2+P3+P4+P5+P6\n",
    "g_1=sp.diff(P,q_1)\n",
    "g_2=sp.diff(P,q_2)\n",
    "g_3=sp.diff(P,q_3)\n",
    "g_4=sp.diff(P,q_4)\n",
    "g_5=sp.diff(P,q_5)\n",
    "g_6=sp.diff(P,q_6)\n",
    "G=Matrix([[g_1],[g_2],[g_3],[g_4],[g_5],[g_6]])"
   ]
  },
  {
   "cell_type": "markdown",
   "metadata": {},
   "source": [
    "计算关节扭矩"
   ]
  },
  {
   "cell_type": "code",
   "execution_count": 19,
   "metadata": {},
   "outputs": [],
   "source": [
    "qd = np.array([0,0,0,0,0,0])\n",
    "qdd = np.array([0,2,0,0,0,0])\n",
    "#注意角度偏置，需要人为补偿偏置角度\n",
    "result = M.subs({q_1:0,q_2:(math.pi/2)+(math.pi/2),q_3:0,q_4:(math.pi/2)+(math.pi/2),q_5:math.pi,q_6:0})@qdd.T\n",
    "result1 = C.subs({q_1:0,q_2:math.pi/2+math.pi/2,q_3:0,q_4:math.pi/2+math.pi/2,q_5:0,q_6:0,dq_1:0,dq_2:0,dq_3:0,dq_4:0\\\n",
    "     ,dq_5:0,dq_6:0})@qd.T\n",
    "result2 = G.subs({q_1:0,q_2:(math.pi/2)+(math.pi/2),q_3:0,q_4:(math.pi/2)+(math.pi/2),q_5:math.pi,q_6:0})"
   ]
  },
  {
   "cell_type": "code",
   "execution_count": 20,
   "metadata": {},
   "outputs": [
    {
     "name": "stdout",
     "output_type": "stream",
     "text": [
      "[0.0181626704240002 -26.5205316694276 7.18116660804760 0.0154915367323999\n",
      " -0.00296997844399997 0.000223055432400000]\n"
     ]
    }
   ],
   "source": [
    "tau = result+result1+np.squeeze(result2)\n",
    "# tau = result+np.squeeze(result2)\n",
    "print(tau)"
   ]
  },
  {
   "cell_type": "code",
   "execution_count": 21,
   "metadata": {},
   "outputs": [],
   "source": [
    "qd = np.array([0,0,0,0,0,0])\n",
    "qdd = np.array([0,2,0,0,0,0])\n",
    "#注意角度偏置，需要人为补偿偏置角度\n",
    "result = M.subs({q_1:0,q_2:math.pi/2-math.pi/2,q_3:0,q_4:math.pi/2-math.pi/2,q_5:math.pi,q_6:0})@qdd.T\n",
    "result1 = C.subs({q_1:0,q_2:-math.pi/2+math.pi/2,q_3:0,q_4:-math.pi/2+math.pi/2,q_5:0,q_6:0,dq_1:0,dq_2:0,dq_3:0,dq_4:0\\\n",
    "     ,dq_5:0,dq_6:0})@qd.T\n",
    "result2 = G.subs({q_1:0,q_2:math.pi/2-math.pi/2,q_3:0,q_4:math.pi/2-math.pi/2,q_5:math.pi,q_6:0})"
   ]
  },
  {
   "cell_type": "code",
   "execution_count": 22,
   "metadata": {},
   "outputs": [
    {
     "name": "stdout",
     "output_type": "stream",
     "text": [
      "[0.0181626704240002 34.0540954465724 -9.77835942995240 0.0154915367324000\n",
      " -0.00296997844400000 0.000223055432400000]\n"
     ]
    }
   ],
   "source": [
    "tau = result+result1+np.squeeze(result2)\n",
    "# tau = result+np.squeeze(result2)\n",
    "print(tau)"
   ]
  }
 ],
 "metadata": {
  "kernelspec": {
   "display_name": "Python 3",
   "language": "python",
   "name": "python3"
  },
  "language_info": {
   "codemirror_mode": {
    "name": "ipython",
    "version": 3
   },
   "file_extension": ".py",
   "mimetype": "text/x-python",
   "name": "python",
   "nbconvert_exporter": "python",
   "pygments_lexer": "ipython3",
   "version": "3.10.4"
  }
 },
 "nbformat": 4,
 "nbformat_minor": 2
}
